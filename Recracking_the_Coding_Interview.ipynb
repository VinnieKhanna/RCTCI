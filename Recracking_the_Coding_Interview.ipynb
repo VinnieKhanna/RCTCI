{
  "nbformat": 4,
  "nbformat_minor": 0,
  "metadata": {
    "colab": {
      "name": "Recracking the Coding Interview",
      "provenance": [],
      "collapsed_sections": [],
      "include_colab_link": true
    },
    "kernelspec": {
      "name": "python3",
      "display_name": "Python 3"
    },
    "language_info": {
      "name": "python"
    }
  },
  "cells": [
    {
      "cell_type": "markdown",
      "metadata": {
        "id": "view-in-github",
        "colab_type": "text"
      },
      "source": [
        "<a href=\"https://colab.research.google.com/github/VinnieKhanna/RCTCI/blob/main/Recracking_the_Coding_Interview.ipynb\" target=\"_parent\"><img src=\"https://colab.research.google.com/assets/colab-badge.svg\" alt=\"Open In Colab\"/></a>"
      ]
    },
    {
      "cell_type": "markdown",
      "metadata": {
        "id": "G5WdVvoehSge"
      },
      "source": [
        "# Recracking the Coding Interview\n",
        "Rohit Das, Vinnie Khanna, Raj Srivasthava"
      ]
    },
    {
      "cell_type": "code",
      "metadata": {
        "colab": {
          "base_uri": "https://localhost:8080/"
        },
        "id": "iuIGfMHrlvgI",
        "outputId": "a498b3e0-185e-47f9-d047-547cafc96fa5"
      },
      "source": [
        "from google.colab import drive\n",
        "drive.mount('/content/drive')"
      ],
      "execution_count": 11,
      "outputs": [
        {
          "output_type": "stream",
          "name": "stdout",
          "text": [
            "Mounted at /content/drive\n"
          ]
        }
      ]
    },
    {
      "cell_type": "markdown",
      "metadata": {
        "id": "IC9AcRwvCYZJ"
      },
      "source": [
        "##Data Collection"
      ]
    },
    {
      "cell_type": "code",
      "metadata": {
        "colab": {
          "base_uri": "https://localhost:8080/",
          "height": 455
        },
        "id": "sISkIq3pCVyH",
        "outputId": "9e508dd5-9cb2-436b-d874-455c53a6a7c1"
      },
      "source": [
        "import requests\n",
        "import json\n",
        "import pandas as pd\n",
        "\n",
        "htmlText = requests.get('https://leetcode.com/api/problems/algorithms/').text\n",
        "problemData = json.loads(htmlText)\n",
        "problems = problemData['stat_status_pairs']\n",
        "cleaned_problems = []\n",
        "for problem in problems:\n",
        "  cleaned_problem = {}\n",
        "  cleaned_problem['id'] = problem['stat']['question_id']\n",
        "  cleaned_problem['title'] = problem['stat']['question__title']\n",
        "  cleaned_problem['title_slug'] = problem['stat']['question__title_slug']\n",
        "  cleaned_problem['difficulty'] = problem['difficulty']['level']\n",
        "  cleaned_problems.append(cleaned_problem)\n",
        "\n",
        "df = pd.DataFrame(reversed(cleaned_problems))\n",
        "df.set_index('id', inplace=True)\n",
        "df\n"
      ],
      "execution_count": 1,
      "outputs": [
        {
          "output_type": "execute_result",
          "data": {
            "text/html": [
              "<div>\n",
              "<style scoped>\n",
              "    .dataframe tbody tr th:only-of-type {\n",
              "        vertical-align: middle;\n",
              "    }\n",
              "\n",
              "    .dataframe tbody tr th {\n",
              "        vertical-align: top;\n",
              "    }\n",
              "\n",
              "    .dataframe thead th {\n",
              "        text-align: right;\n",
              "    }\n",
              "</style>\n",
              "<table border=\"1\" class=\"dataframe\">\n",
              "  <thead>\n",
              "    <tr style=\"text-align: right;\">\n",
              "      <th></th>\n",
              "      <th>title</th>\n",
              "      <th>title_slug</th>\n",
              "      <th>difficulty</th>\n",
              "    </tr>\n",
              "    <tr>\n",
              "      <th>id</th>\n",
              "      <th></th>\n",
              "      <th></th>\n",
              "      <th></th>\n",
              "    </tr>\n",
              "  </thead>\n",
              "  <tbody>\n",
              "    <tr>\n",
              "      <th>1</th>\n",
              "      <td>Two Sum</td>\n",
              "      <td>two-sum</td>\n",
              "      <td>1</td>\n",
              "    </tr>\n",
              "    <tr>\n",
              "      <th>2</th>\n",
              "      <td>Add Two Numbers</td>\n",
              "      <td>add-two-numbers</td>\n",
              "      <td>2</td>\n",
              "    </tr>\n",
              "    <tr>\n",
              "      <th>3</th>\n",
              "      <td>Longest Substring Without Repeating Characters</td>\n",
              "      <td>longest-substring-without-repeating-characters</td>\n",
              "      <td>2</td>\n",
              "    </tr>\n",
              "    <tr>\n",
              "      <th>4</th>\n",
              "      <td>Median of Two Sorted Arrays</td>\n",
              "      <td>median-of-two-sorted-arrays</td>\n",
              "      <td>3</td>\n",
              "    </tr>\n",
              "    <tr>\n",
              "      <th>5</th>\n",
              "      <td>Longest Palindromic Substring</td>\n",
              "      <td>longest-palindromic-substring</td>\n",
              "      <td>2</td>\n",
              "    </tr>\n",
              "    <tr>\n",
              "      <th>...</th>\n",
              "      <td>...</td>\n",
              "      <td>...</td>\n",
              "      <td>...</td>\n",
              "    </tr>\n",
              "    <tr>\n",
              "      <th>2157</th>\n",
              "      <td>Smallest K-Length Subsequence With Occurrences...</td>\n",
              "      <td>smallest-k-length-subsequence-with-occurrences...</td>\n",
              "      <td>3</td>\n",
              "    </tr>\n",
              "    <tr>\n",
              "      <th>2159</th>\n",
              "      <td>Two Out of Three</td>\n",
              "      <td>two-out-of-three</td>\n",
              "      <td>1</td>\n",
              "    </tr>\n",
              "    <tr>\n",
              "      <th>2160</th>\n",
              "      <td>Minimum Operations to Make a Uni-Value Grid</td>\n",
              "      <td>minimum-operations-to-make-a-uni-value-grid</td>\n",
              "      <td>2</td>\n",
              "    </tr>\n",
              "    <tr>\n",
              "      <th>2161</th>\n",
              "      <td>Stock Price Fluctuation</td>\n",
              "      <td>stock-price-fluctuation</td>\n",
              "      <td>2</td>\n",
              "    </tr>\n",
              "    <tr>\n",
              "      <th>2162</th>\n",
              "      <td>Partition Array Into Two Arrays to Minimize Su...</td>\n",
              "      <td>partition-array-into-two-arrays-to-minimize-su...</td>\n",
              "      <td>3</td>\n",
              "    </tr>\n",
              "  </tbody>\n",
              "</table>\n",
              "<p>1840 rows × 3 columns</p>\n",
              "</div>"
            ],
            "text/plain": [
              "                                                  title  ... difficulty\n",
              "id                                                       ...           \n",
              "1                                               Two Sum  ...          1\n",
              "2                                       Add Two Numbers  ...          2\n",
              "3        Longest Substring Without Repeating Characters  ...          2\n",
              "4                           Median of Two Sorted Arrays  ...          3\n",
              "5                         Longest Palindromic Substring  ...          2\n",
              "...                                                 ...  ...        ...\n",
              "2157  Smallest K-Length Subsequence With Occurrences...  ...          3\n",
              "2159                                   Two Out of Three  ...          1\n",
              "2160        Minimum Operations to Make a Uni-Value Grid  ...          2\n",
              "2161                           Stock Price Fluctuation   ...          2\n",
              "2162  Partition Array Into Two Arrays to Minimize Su...  ...          3\n",
              "\n",
              "[1840 rows x 3 columns]"
            ]
          },
          "metadata": {},
          "execution_count": 1
        }
      ]
    },
    {
      "cell_type": "code",
      "metadata": {
        "colab": {
          "base_uri": "https://localhost:8080/"
        },
        "id": "2s3_LWXajxg1",
        "outputId": "f274b802-1553-44b6-9025-4245a8faeb91"
      },
      "source": [
        "!pip install requests_html"
      ],
      "execution_count": 2,
      "outputs": [
        {
          "output_type": "stream",
          "name": "stdout",
          "text": [
            "Requirement already satisfied: requests_html in /usr/local/lib/python3.7/dist-packages (0.10.0)\n",
            "Requirement already satisfied: parse in /usr/local/lib/python3.7/dist-packages (from requests_html) (1.19.0)\n",
            "Requirement already satisfied: fake-useragent in /usr/local/lib/python3.7/dist-packages (from requests_html) (0.1.11)\n",
            "Requirement already satisfied: pyquery in /usr/local/lib/python3.7/dist-packages (from requests_html) (1.4.3)\n",
            "Requirement already satisfied: pyppeteer>=0.0.14 in /usr/local/lib/python3.7/dist-packages (from requests_html) (0.2.6)\n",
            "Requirement already satisfied: bs4 in /usr/local/lib/python3.7/dist-packages (from requests_html) (0.0.1)\n",
            "Requirement already satisfied: requests in /usr/local/lib/python3.7/dist-packages (from requests_html) (2.23.0)\n",
            "Requirement already satisfied: w3lib in /usr/local/lib/python3.7/dist-packages (from requests_html) (1.22.0)\n",
            "Requirement already satisfied: importlib-metadata>=1.4 in /usr/local/lib/python3.7/dist-packages (from pyppeteer>=0.0.14->requests_html) (4.8.1)\n",
            "Requirement already satisfied: pyee<9.0.0,>=8.1.0 in /usr/local/lib/python3.7/dist-packages (from pyppeteer>=0.0.14->requests_html) (8.2.2)\n",
            "Requirement already satisfied: websockets<10.0,>=9.1 in /usr/local/lib/python3.7/dist-packages (from pyppeteer>=0.0.14->requests_html) (9.1)\n",
            "Requirement already satisfied: appdirs<2.0.0,>=1.4.3 in /usr/local/lib/python3.7/dist-packages (from pyppeteer>=0.0.14->requests_html) (1.4.4)\n",
            "Requirement already satisfied: tqdm<5.0.0,>=4.42.1 in /usr/local/lib/python3.7/dist-packages (from pyppeteer>=0.0.14->requests_html) (4.62.3)\n",
            "Requirement already satisfied: urllib3<2.0.0,>=1.25.8 in /usr/local/lib/python3.7/dist-packages (from pyppeteer>=0.0.14->requests_html) (1.25.11)\n",
            "Requirement already satisfied: typing-extensions>=3.6.4 in /usr/local/lib/python3.7/dist-packages (from importlib-metadata>=1.4->pyppeteer>=0.0.14->requests_html) (3.7.4.3)\n",
            "Requirement already satisfied: zipp>=0.5 in /usr/local/lib/python3.7/dist-packages (from importlib-metadata>=1.4->pyppeteer>=0.0.14->requests_html) (3.6.0)\n",
            "Requirement already satisfied: beautifulsoup4 in /usr/local/lib/python3.7/dist-packages (from bs4->requests_html) (4.6.3)\n",
            "Requirement already satisfied: lxml>=2.1 in /usr/local/lib/python3.7/dist-packages (from pyquery->requests_html) (4.2.6)\n",
            "Requirement already satisfied: cssselect>0.7.9 in /usr/local/lib/python3.7/dist-packages (from pyquery->requests_html) (1.1.0)\n",
            "Requirement already satisfied: idna<3,>=2.5 in /usr/local/lib/python3.7/dist-packages (from requests->requests_html) (2.10)\n",
            "Requirement already satisfied: certifi>=2017.4.17 in /usr/local/lib/python3.7/dist-packages (from requests->requests_html) (2021.5.30)\n",
            "Requirement already satisfied: chardet<4,>=3.0.2 in /usr/local/lib/python3.7/dist-packages (from requests->requests_html) (3.0.4)\n",
            "Requirement already satisfied: six>=1.4.1 in /usr/local/lib/python3.7/dist-packages (from w3lib->requests_html) (1.15.0)\n"
          ]
        }
      ]
    },
    {
      "cell_type": "code",
      "metadata": {
        "colab": {
          "base_uri": "https://localhost:8080/",
          "height": 131
        },
        "id": "F_4rpmeWjbA8",
        "outputId": "2cbe11f6-d04c-4444-8b8f-542f14296434"
      },
      "source": [
        "from requests_html import AsyncHTMLSession\n",
        "import asyncio\n",
        "loop = asyncio.get_running_loop()\n",
        "asession = AsyncHTMLSession(loop=loop)\n",
        "r = await asession.get('https://leetcode.com/problems/' + df['title_slug'][1])\n",
        "script = '''\n",
        "       () => {return 'Hello World'}\n",
        "'''\n",
        "await r.html.arender(script=script, reload=False)"
      ],
      "execution_count": 10,
      "outputs": [
        {
          "output_type": "error",
          "ename": "SyntaxError",
          "evalue": "ignored",
          "traceback": [
            "\u001b[0;36m  File \u001b[0;32m\"<ipython-input-10-54b1f8599d8a>\"\u001b[0;36m, line \u001b[0;32m5\u001b[0m\n\u001b[0;31m    r = await asession.get('https://leetcode.com/problems/' + df['title_slug'][1])\u001b[0m\n\u001b[0m       ^\u001b[0m\n\u001b[0;31mSyntaxError\u001b[0m\u001b[0;31m:\u001b[0m 'await' outside function\n"
          ]
        }
      ]
    },
    {
      "cell_type": "code",
      "metadata": {
        "id": "UsGWtG-9IG8e"
      },
      "source": [
        "df['description'] = df.apply(lambda x: requests.get('https://leetcode.com/problems/' + x['title_slug']).text, axis=1)"
      ],
      "execution_count": null,
      "outputs": []
    },
    {
      "cell_type": "code",
      "metadata": {
        "id": "HBU621zPNvpU"
      },
      "source": [
        "df.iloc[1]['description']"
      ],
      "execution_count": null,
      "outputs": []
    },
    {
      "cell_type": "code",
      "metadata": {
        "id": "HhKRk0XTN6B7"
      },
      "source": [
        "df.iloc[2]['description']"
      ],
      "execution_count": null,
      "outputs": []
    },
    {
      "cell_type": "markdown",
      "metadata": {
        "id": "CDLGSlrCMQ7y"
      },
      "source": [
        "## Imports and Data Processing"
      ]
    },
    {
      "cell_type": "code",
      "metadata": {
        "id": "uxTNKEmZNurD"
      },
      "source": [
        "%%bash\n",
        "pip install tqdm transformers"
      ],
      "execution_count": null,
      "outputs": []
    },
    {
      "cell_type": "code",
      "metadata": {
        "id": "s0u8292dhWnD"
      },
      "source": [
        "import numpy as np\n",
        "import pandas as pd\n",
        "import torch\n",
        "from tqdm import tqdm\n",
        "import transformers"
      ],
      "execution_count": null,
      "outputs": []
    },
    {
      "cell_type": "code",
      "metadata": {
        "id": "FhWJ7mwqKXTX"
      },
      "source": [
        "# idx: text, difficulty, category, time complexity\n",
        "data = pd.read_csv('data.csv')\n",
        "text = pd['text']\n",
        "data.iloc[0]"
      ],
      "execution_count": null,
      "outputs": []
    },
    {
      "cell_type": "markdown",
      "metadata": {
        "id": "3J1Tu1CQMAvF"
      },
      "source": [
        "## Embeddings"
      ]
    },
    {
      "cell_type": "code",
      "metadata": {
        "id": "rPJCsyYHL7n7"
      },
      "source": [
        "from transformers import BertTokenizer, BertModel\n",
        "\n",
        "tokenizer = BertTokenizer.from_pretrained('bert-base-uncased')\n",
        "embedder = BertModel.from_pretrained('bert-base-uncased')\n",
        "tokens = tokenizer.encode(text)\n",
        "\n",
        "with torch.no_grad():\n",
        "  embeddings = embedder(tokens)\n",
        "\n",
        "print(embeddings[0])"
      ],
      "execution_count": null,
      "outputs": []
    },
    {
      "cell_type": "markdown",
      "metadata": {
        "id": "i7wf5SBwMNaw"
      },
      "source": [
        "## Classification Model Training"
      ]
    },
    {
      "cell_type": "markdown",
      "metadata": {
        "id": "QZCumfAJMbUE"
      },
      "source": [
        "## Clustering Model Training"
      ]
    },
    {
      "cell_type": "markdown",
      "metadata": {
        "id": "xc0Iu0WzMh7E"
      },
      "source": [
        "## Question Generation"
      ]
    }
  ]
}