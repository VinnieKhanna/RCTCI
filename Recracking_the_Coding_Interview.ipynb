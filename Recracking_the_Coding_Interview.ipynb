{
  "nbformat": 4,
  "nbformat_minor": 0,
  "metadata": {
    "colab": {
      "name": "Recracking the Coding Interview",
      "provenance": [],
      "collapsed_sections": [],
      "include_colab_link": true
    },
    "kernelspec": {
      "name": "python3",
      "display_name": "Python 3"
    },
    "language_info": {
      "name": "python"
    }
  },
  "cells": [
    {
      "cell_type": "markdown",
      "metadata": {
        "id": "view-in-github",
        "colab_type": "text"
      },
      "source": [
        "<a href=\"https://colab.research.google.com/github/VinnieKhanna/RCTCI/blob/main/Recracking_the_Coding_Interview.ipynb\" target=\"_parent\"><img src=\"https://colab.research.google.com/assets/colab-badge.svg\" alt=\"Open In Colab\"/></a>"
      ]
    },
    {
      "cell_type": "markdown",
      "metadata": {
        "id": "G5WdVvoehSge"
      },
      "source": [
        "# Recracking the Coding Interview\n",
        "Rohit Das, Vinnie Khanna, Raj Srivasthava"
      ]
    },
    {
      "cell_type": "code",
      "metadata": {
        "id": "SP7q36gxpUtM"
      },
      "source": [
        "### Toggle True or False for Colab or Git Environment\n",
        "COLABMODE = True"
      ],
      "execution_count": 1,
      "outputs": []
    },
    {
      "cell_type": "code",
      "metadata": {
        "colab": {
          "base_uri": "https://localhost:8080/"
        },
        "id": "iuIGfMHrlvgI",
        "outputId": "e15491e5-f1b0-4056-c093-2b88c06c6145"
      },
      "source": [
        "from google.colab import drive\n",
        "if COLABMODE:\n",
        "   drive.mount('/content/drive')"
      ],
      "execution_count": 2,
      "outputs": [
        {
          "output_type": "stream",
          "name": "stdout",
          "text": [
            "Drive already mounted at /content/drive; to attempt to forcibly remount, call drive.mount(\"/content/drive\", force_remount=True).\n"
          ]
        }
      ]
    },
    {
      "cell_type": "code",
      "metadata": {
        "colab": {
          "base_uri": "https://localhost:8080/"
        },
        "id": "yql2YMCBxuKy",
        "outputId": "af7f33d6-e3ed-4b6e-c5b8-5fc157a22b86"
      },
      "source": [
        "%ls\n",
        "%cd drive/MyDrive/CS4650"
      ],
      "execution_count": 2,
      "outputs": [
        {
          "output_type": "stream",
          "name": "stdout",
          "text": [
            "\u001b[0m\u001b[01;34mdrive\u001b[0m/  \u001b[01;34msample_data\u001b[0m/\n",
            "/content/drive/MyDrive/CS4650\n"
          ]
        }
      ]
    },
    {
      "cell_type": "code",
      "metadata": {
        "id": "qpf4nzKky3re"
      },
      "source": [
        "### Once scraping is finished, this is how we'll load data\n",
        "#df = pd.read_csv('')"
      ],
      "execution_count": 4,
      "outputs": []
    },
    {
      "cell_type": "markdown",
      "metadata": {
        "id": "IC9AcRwvCYZJ"
      },
      "source": [
        "##Data Collection"
      ]
    },
    {
      "cell_type": "markdown",
      "metadata": {
        "id": "CDLGSlrCMQ7y"
      },
      "source": [
        "## Imports and Data Processing"
      ]
    },
    {
      "cell_type": "code",
      "metadata": {
        "id": "uxTNKEmZNurD"
      },
      "source": [
        "%%bash\n",
        "pip install tqdm transformers"
      ],
      "execution_count": null,
      "outputs": []
    },
    {
      "cell_type": "code",
      "metadata": {
        "id": "s0u8292dhWnD"
      },
      "source": [
        "import numpy as np\n",
        "import pandas as pd\n",
        "import torch\n",
        "from tqdm import tqdm\n",
        "import transformers"
      ],
      "execution_count": null,
      "outputs": []
    },
    {
      "cell_type": "code",
      "metadata": {
        "id": "FhWJ7mwqKXTX"
      },
      "source": [
        "# idx: text, difficulty, category, time complexity\n",
        "data = pd.read_csv('data.csv')\n",
        "text = pd['text']\n",
        "data.iloc[0]"
      ],
      "execution_count": null,
      "outputs": []
    },
    {
      "cell_type": "markdown",
      "metadata": {
        "id": "3J1Tu1CQMAvF"
      },
      "source": [
        "## Embeddings"
      ]
    },
    {
      "cell_type": "code",
      "metadata": {
        "id": "rPJCsyYHL7n7"
      },
      "source": [
        "from transformers import BertTokenizer, BertModel\n",
        "\n",
        "tokenizer = BertTokenizer.from_pretrained('bert-base-uncased')\n",
        "embedder = BertModel.from_pretrained('bert-base-uncased')\n",
        "tokens = tokenizer.encode(text)\n",
        "\n",
        "with torch.no_grad():\n",
        "  embeddings = embedder(tokens)\n",
        "\n",
        "print(embeddings[0])"
      ],
      "execution_count": null,
      "outputs": []
    },
    {
      "cell_type": "markdown",
      "metadata": {
        "id": "i7wf5SBwMNaw"
      },
      "source": [
        "## Classification Model Training"
      ]
    },
    {
      "cell_type": "markdown",
      "metadata": {
        "id": "QZCumfAJMbUE"
      },
      "source": [
        "## Clustering Model Training"
      ]
    },
    {
      "cell_type": "markdown",
      "metadata": {
        "id": "xc0Iu0WzMh7E"
      },
      "source": [
        "## Question Generation"
      ]
    }
  ]
}